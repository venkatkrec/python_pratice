{
 "cells": [
  {
   "cell_type": "code",
   "execution_count": 7,
   "metadata": {},
   "outputs": [],
   "source": [
    "from IPython.display import clear_output\n",
    "ticTalcValues = list(map(lambda x: str(x), range(1,10)))\n",
    "def display():\n",
    "    clear_output()\n",
    "    print('-------')\n",
    "    print('|'+ticTalcValues[6]+'|'+ticTalcValues[7]+'|'+ticTalcValues[8]+'|')\n",
    "    print('-------')\n",
    "    print('|'+ticTalcValues[3]+'|'+ticTalcValues[4]+'|'+ticTalcValues[5]+'|')\n",
    "    print('-------')\n",
    "    print('|'+ticTalcValues[0]+'|'+ticTalcValues[1]+'|'+ticTalcValues[2]+'|')\n",
    "    print('-------')\n",
    "    \n",
    "\n"
   ]
  },
  {
   "cell_type": "code",
   "execution_count": 3,
   "metadata": {},
   "outputs": [],
   "source": [
    " ticTalcValues = list(map(lambda x: str(x), range(1,10)))"
   ]
  },
  {
   "cell_type": "code",
   "execution_count": 4,
   "metadata": {},
   "outputs": [],
   "source": [
    "ticTalcValues[0]= 'X'"
   ]
  },
  {
   "cell_type": "code",
   "execution_count": 2,
   "metadata": {},
   "outputs": [
    {
     "name": "stdout",
     "output_type": "stream",
     "text": [
      "-------\n",
      "|7|8|9|\n",
      "-------\n",
      "|4|5|6|\n",
      "-------\n",
      "|1|2|3|\n",
      "-------\n"
     ]
    }
   ],
   "source": [
    "display()\n",
    "display()"
   ]
  },
  {
   "cell_type": "code",
   "execution_count": 8,
   "metadata": {},
   "outputs": [],
   "source": [
    "def check_space(position):    \n",
    "    return ticTalcValues[position] in list(map(lambda x: str(x), range(1,10)))   \n",
    "    "
   ]
  },
  {
   "cell_type": "code",
   "execution_count": 7,
   "metadata": {},
   "outputs": [
    {
     "data": {
      "text/plain": [
       "True"
      ]
     },
     "execution_count": 7,
     "metadata": {},
     "output_type": "execute_result"
    }
   ],
   "source": [
    "check_space(1)"
   ]
  },
  {
   "cell_type": "code",
   "execution_count": 9,
   "metadata": {},
   "outputs": [],
   "source": [
    "def mark_postion(marker, position):\n",
    "    ticTalcValues[position] = marker"
   ]
  },
  {
   "cell_type": "code",
   "execution_count": 9,
   "metadata": {},
   "outputs": [],
   "source": [
    "mark_postion('O',2)"
   ]
  },
  {
   "cell_type": "code",
   "execution_count": 10,
   "metadata": {},
   "outputs": [
    {
     "name": "stdout",
     "output_type": "stream",
     "text": [
      "-------\n",
      "|7|8|9|\n",
      "-------\n",
      "|4|5|6|\n",
      "-------\n",
      "|X|2|O|\n",
      "-------\n"
     ]
    }
   ],
   "source": [
    "display()"
   ]
  },
  {
   "cell_type": "code",
   "execution_count": 10,
   "metadata": {},
   "outputs": [],
   "source": [
    "def reset_ticTalcValues():\n",
    "    global ticTalcValues\n",
    "    ticTalcValues = list(map(lambda x: str(x), range(1,10)))"
   ]
  },
  {
   "cell_type": "code",
   "execution_count": 39,
   "metadata": {},
   "outputs": [
    {
     "name": "stdout",
     "output_type": "stream",
     "text": [
      "-------\n",
      "|7|8|9|\n",
      "-------\n",
      "|4|5|6|\n",
      "-------\n",
      "|1|2|3|\n",
      "-------\n"
     ]
    }
   ],
   "source": [
    "reset_ticTalcValues()\n",
    "display()"
   ]
  },
  {
   "cell_type": "code",
   "execution_count": 11,
   "metadata": {},
   "outputs": [],
   "source": [
    "from random import randint\n",
    "def selectPlayer():\n",
    "    if randint(0,1) == 0:\n",
    "        return 'Player1'\n",
    "    else:\n",
    "        return 'Player2'"
   ]
  },
  {
   "cell_type": "code",
   "execution_count": 14,
   "metadata": {},
   "outputs": [
    {
     "name": "stdout",
     "output_type": "stream",
     "text": [
      "Player2\n"
     ]
    }
   ],
   "source": [
    "print(selectPlayer())"
   ]
  },
  {
   "cell_type": "code",
   "execution_count": 12,
   "metadata": {},
   "outputs": [],
   "source": [
    "def select_marker():\n",
    "    while True:\n",
    "        result = str(input('Please select marker X or O')).upper()\n",
    "        if result not in ['X','O']:\n",
    "            continue\n",
    "        else:\n",
    "            break\n",
    "            \n",
    "    return result\n",
    "    "
   ]
  },
  {
   "cell_type": "code",
   "execution_count": null,
   "metadata": {},
   "outputs": [
    {
     "name": "stdin",
     "output_type": "stream",
     "text": [
      "Please select marker X or O 1\n",
      "Please select marker X or O 2\n",
      "Please select marker X or O 3\n",
      "Please select marker X or O 4\n",
      "Please select marker X or O 6\n",
      "Please select marker X or O 1\n"
     ]
    }
   ],
   "source": [
    "result = select_marker()"
   ]
  },
  {
   "cell_type": "code",
   "execution_count": null,
   "metadata": {},
   "outputs": [],
   "source": [
    "result"
   ]
  },
  {
   "cell_type": "code",
   "execution_count": 38,
   "metadata": {},
   "outputs": [],
   "source": [
    "def request_marking(marker):\n",
    "    global ticTalcValues\n",
    "    while True:\n",
    "        position = int(input('Please select position 1-9 :'))\n",
    "        if(position not in range(1,10)):\n",
    "            continue\n",
    "        elif (check_space(position-1)):\n",
    "            mark_postion(marker, position-1)\n",
    "            break  \n",
    "        else:\n",
    "            print('Position '+ str(position) +' is already marked')\n",
    "            continue\n",
    "        \n",
    "         "
   ]
  },
  {
   "cell_type": "code",
   "execution_count": 33,
   "metadata": {},
   "outputs": [
    {
     "name": "stdin",
     "output_type": "stream",
     "text": [
      "Please select position 1-9 9\n"
     ]
    }
   ],
   "source": [
    "request_marking('X')"
   ]
  },
  {
   "cell_type": "code",
   "execution_count": 34,
   "metadata": {},
   "outputs": [
    {
     "name": "stdout",
     "output_type": "stream",
     "text": [
      "-------\n",
      "|X|X|X|\n",
      "-------\n",
      "|X|X|X|\n",
      "-------\n",
      "|X|X|X|\n",
      "-------\n"
     ]
    }
   ],
   "source": [
    "display()"
   ]
  },
  {
   "cell_type": "code",
   "execution_count": 24,
   "metadata": {},
   "outputs": [],
   "source": [
    "def check_full():\n",
    "    return len(list(filter(lambda x: x in list(map(lambda x: str(x), range(1,10))), ticTalcValues))) == 0\n",
    "    "
   ]
  },
  {
   "cell_type": "code",
   "execution_count": 35,
   "metadata": {},
   "outputs": [
    {
     "data": {
      "text/plain": [
       "True"
      ]
     },
     "execution_count": 35,
     "metadata": {},
     "output_type": "execute_result"
    }
   ],
   "source": [
    "check_full()"
   ]
  },
  {
   "cell_type": "code",
   "execution_count": 36,
   "metadata": {},
   "outputs": [
    {
     "data": {
      "text/plain": [
       "0"
      ]
     },
     "execution_count": 36,
     "metadata": {},
     "output_type": "execute_result"
    }
   ],
   "source": [
    "len(list(filter(lambda x: x in list(map(lambda x: str(x), range(1,10))), ticTalcValues)))"
   ]
  },
  {
   "cell_type": "code",
   "execution_count": null,
   "metadata": {},
   "outputs": [],
   "source": []
  }
 ],
 "metadata": {
  "kernelspec": {
   "display_name": "Python 3",
   "language": "python",
   "name": "python3"
  },
  "language_info": {
   "codemirror_mode": {
    "name": "ipython",
    "version": 3
   },
   "file_extension": ".py",
   "mimetype": "text/x-python",
   "name": "python",
   "nbconvert_exporter": "python",
   "pygments_lexer": "ipython3",
   "version": "3.7.4"
  }
 },
 "nbformat": 4,
 "nbformat_minor": 4
}
